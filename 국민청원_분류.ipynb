{
  "nbformat": 4,
  "nbformat_minor": 0,
  "metadata": {
    "colab": {
      "name": "국민청원 분류.ipynb",
      "provenance": [],
      "collapsed_sections": [],
      "machine_shape": "hm",
      "authorship_tag": "ABX9TyPLFer1sdxdgdpBkkwXfDpg"
    },
    "kernelspec": {
      "name": "python3",
      "display_name": "Python 3"
    },
    "language_info": {
      "name": "python"
    },
    "accelerator": "GPU"
  },
  "cells": [
    {
      "cell_type": "code",
      "execution_count": null,
      "metadata": {
        "id": "cGmaX3cIy-lI"
      },
      "outputs": [],
      "source": [
        "import pandas as pd\n",
        "import numpy as np\n",
        "import requests\n",
        "from bs4 import BeautifulSoup\n",
        "import time"
      ]
    },
    {
      "cell_type": "code",
      "source": [
        "#크롤링 시작\n",
        "result = pd.DataFrame()\n",
        "for i in range(603600,603696):\n",
        "    URL = \"http://www1.president.go.kr/petitions/\"+str(i)\n",
        "\n",
        "    response = requests.get(URL)\n",
        "    html = response.text\n",
        "    soup = BeautifulSoup(html, 'html.parser')\n",
        "    title = soup.find('h3', class_='petitionsView_title')\n",
        "    count = soup.find('span', class_='counter')\n",
        "\n",
        "    for content in soup.select('div.petitionsView_write > div.View_write'): content\n",
        "    a=[]\n",
        "    for tag in soup.select('ul.petitionsView_info_list > li'):\n",
        "        a.append(tag.contents[1])\n",
        "\n",
        "    if len(a) != 0:\n",
        "        df1=pd.DataFrame({'start':[a[1]],\n",
        "                          'end':[a[2]],\n",
        "                          'category': [a[0]],\n",
        "                          'count':[count.text],\n",
        "                          'title': [title.next],\n",
        "                          'content': [content.text.strip()[0:13000]]\n",
        "                          })\n",
        "        \n",
        "        result= pd.concat([result,df1])\n",
        "        result.index = np.arange(len(result))\n",
        "\n",
        "    if i% 60 == 0:\n",
        "        print(\"Sleep 10sec. Count:\" + str(i)\n",
        "            +\", Local time:\"\n",
        "            + time.strftime('%Y-%m-%d', time.localtime(time.time()))\n",
        "            +\" \"+time.strftime('%X', time.localtime(time.time()))\n",
        "            +\", Data Length:\"+ str(len(result)))\n",
        "        time.sleep(10)\n"
      ],
      "metadata": {
        "colab": {
          "base_uri": "https://localhost:8080/"
        },
        "id": "H8o8oCwqzW3h",
        "outputId": "08fd9d92-67d7-4f95-e500-a532ba23d51c"
      },
      "execution_count": null,
      "outputs": [
        {
          "output_type": "stream",
          "name": "stdout",
          "text": [
            "Sleep 10sec. Count:603600, Local time:2022-01-12 05:33:44, Data Length:1\n",
            "Sleep 10sec. Count:603660, Local time:2022-01-12 05:35:20, Data Length:59\n"
          ]
        }
      ]
    },
    {
      "cell_type": "code",
      "source": [
        "#크롤링 데이터 확인\n",
        "print(result.shape)\n",
        "\n",
        "df=result\n",
        "df.head()"
      ],
      "metadata": {
        "colab": {
          "base_uri": "https://localhost:8080/",
          "height": 355
        },
        "id": "f_qLzI1_0Xkc",
        "outputId": "04e253a4-4ba1-461f-a9f1-d7bc62188764"
      },
      "execution_count": null,
      "outputs": [
        {
          "output_type": "stream",
          "name": "stdout",
          "text": [
            "(59, 6)\n"
          ]
        },
        {
          "output_type": "execute_result",
          "data": {
            "text/html": [
              "\n",
              "  <div id=\"df-530e91f0-8a93-401f-a65f-87cd57ebb2d6\">\n",
              "    <div class=\"colab-df-container\">\n",
              "      <div>\n",
              "<style scoped>\n",
              "    .dataframe tbody tr th:only-of-type {\n",
              "        vertical-align: middle;\n",
              "    }\n",
              "\n",
              "    .dataframe tbody tr th {\n",
              "        vertical-align: top;\n",
              "    }\n",
              "\n",
              "    .dataframe thead th {\n",
              "        text-align: right;\n",
              "    }\n",
              "</style>\n",
              "<table border=\"1\" class=\"dataframe\">\n",
              "  <thead>\n",
              "    <tr style=\"text-align: right;\">\n",
              "      <th></th>\n",
              "      <th>start</th>\n",
              "      <th>end</th>\n",
              "      <th>category</th>\n",
              "      <th>count</th>\n",
              "      <th>title</th>\n",
              "      <th>content</th>\n",
              "    </tr>\n",
              "  </thead>\n",
              "  <tbody>\n",
              "    <tr>\n",
              "      <th>0</th>\n",
              "      <td>2022-01-06</td>\n",
              "      <td>2022-02-05</td>\n",
              "      <td>보건복지</td>\n",
              "      <td>926</td>\n",
              "      <td>코로나 백신 접종 후 부작용을 겪고 있는 사람들에게 관심을 가져주세요</td>\n",
              "      <td>안녕하세요 인천에서 살고 있는 30대 직장인입니다\\r\\n지금 이순간에도 백신접종 후...</td>\n",
              "    </tr>\n",
              "    <tr>\n",
              "      <th>1</th>\n",
              "      <td>2022-01-06</td>\n",
              "      <td>2022-02-05</td>\n",
              "      <td>보건복지</td>\n",
              "      <td>1,232</td>\n",
              "      <td>도서관에 대한 백신 패스를 당장 중단하십시오</td>\n",
              "      <td>미접종 대학원생입니다. 백신패스 제도 시행으로 인해 공공도서관뿐 아니라 사립대학의 ...</td>\n",
              "    </tr>\n",
              "    <tr>\n",
              "      <th>2</th>\n",
              "      <td>2022-01-06</td>\n",
              "      <td>2022-02-05</td>\n",
              "      <td>기타</td>\n",
              "      <td>213</td>\n",
              "      <td>반드시 근절해 주세요!</td>\n",
              "      <td>안녕하세요? 농협중앙회 상호금융소비자보호부 ******팀장 *** 입니다.\\r\\n저...</td>\n",
              "    </tr>\n",
              "    <tr>\n",
              "      <th>3</th>\n",
              "      <td>2022-01-06</td>\n",
              "      <td>2022-02-05</td>\n",
              "      <td>보건복지</td>\n",
              "      <td>4,292</td>\n",
              "      <td>부스터샷 20일후  급성혈액암</td>\n",
              "      <td>저는 만63세로 부산에서 작은 서점을 하고 있습니다   1, 2차 백신접종은 진통제...</td>\n",
              "    </tr>\n",
              "    <tr>\n",
              "      <th>4</th>\n",
              "      <td>2022-01-06</td>\n",
              "      <td>2022-02-05</td>\n",
              "      <td>교통/건축/국토</td>\n",
              "      <td>272</td>\n",
              "      <td>가로주택정비사업(빈집및소규모주택정비사업에관한 특례법)의 도로 신설시 도로면적 사업시...</td>\n",
              "      <td>좁은 부지와 세대수가 많은 공동주택의 경우 아파트가 30~40년 이상 되어도 주위 ...</td>\n",
              "    </tr>\n",
              "  </tbody>\n",
              "</table>\n",
              "</div>\n",
              "      <button class=\"colab-df-convert\" onclick=\"convertToInteractive('df-530e91f0-8a93-401f-a65f-87cd57ebb2d6')\"\n",
              "              title=\"Convert this dataframe to an interactive table.\"\n",
              "              style=\"display:none;\">\n",
              "        \n",
              "  <svg xmlns=\"http://www.w3.org/2000/svg\" height=\"24px\"viewBox=\"0 0 24 24\"\n",
              "       width=\"24px\">\n",
              "    <path d=\"M0 0h24v24H0V0z\" fill=\"none\"/>\n",
              "    <path d=\"M18.56 5.44l.94 2.06.94-2.06 2.06-.94-2.06-.94-.94-2.06-.94 2.06-2.06.94zm-11 1L8.5 8.5l.94-2.06 2.06-.94-2.06-.94L8.5 2.5l-.94 2.06-2.06.94zm10 10l.94 2.06.94-2.06 2.06-.94-2.06-.94-.94-2.06-.94 2.06-2.06.94z\"/><path d=\"M17.41 7.96l-1.37-1.37c-.4-.4-.92-.59-1.43-.59-.52 0-1.04.2-1.43.59L10.3 9.45l-7.72 7.72c-.78.78-.78 2.05 0 2.83L4 21.41c.39.39.9.59 1.41.59.51 0 1.02-.2 1.41-.59l7.78-7.78 2.81-2.81c.8-.78.8-2.07 0-2.86zM5.41 20L4 18.59l7.72-7.72 1.47 1.35L5.41 20z\"/>\n",
              "  </svg>\n",
              "      </button>\n",
              "      \n",
              "  <style>\n",
              "    .colab-df-container {\n",
              "      display:flex;\n",
              "      flex-wrap:wrap;\n",
              "      gap: 12px;\n",
              "    }\n",
              "\n",
              "    .colab-df-convert {\n",
              "      background-color: #E8F0FE;\n",
              "      border: none;\n",
              "      border-radius: 50%;\n",
              "      cursor: pointer;\n",
              "      display: none;\n",
              "      fill: #1967D2;\n",
              "      height: 32px;\n",
              "      padding: 0 0 0 0;\n",
              "      width: 32px;\n",
              "    }\n",
              "\n",
              "    .colab-df-convert:hover {\n",
              "      background-color: #E2EBFA;\n",
              "      box-shadow: 0px 1px 2px rgba(60, 64, 67, 0.3), 0px 1px 3px 1px rgba(60, 64, 67, 0.15);\n",
              "      fill: #174EA6;\n",
              "    }\n",
              "\n",
              "    [theme=dark] .colab-df-convert {\n",
              "      background-color: #3B4455;\n",
              "      fill: #D2E3FC;\n",
              "    }\n",
              "\n",
              "    [theme=dark] .colab-df-convert:hover {\n",
              "      background-color: #434B5C;\n",
              "      box-shadow: 0px 1px 3px 1px rgba(0, 0, 0, 0.15);\n",
              "      filter: drop-shadow(0px 1px 2px rgba(0, 0, 0, 0.3));\n",
              "      fill: #FFFFFF;\n",
              "    }\n",
              "  </style>\n",
              "\n",
              "      <script>\n",
              "        const buttonEl =\n",
              "          document.querySelector('#df-530e91f0-8a93-401f-a65f-87cd57ebb2d6 button.colab-df-convert');\n",
              "        buttonEl.style.display =\n",
              "          google.colab.kernel.accessAllowed ? 'block' : 'none';\n",
              "\n",
              "        async function convertToInteractive(key) {\n",
              "          const element = document.querySelector('#df-530e91f0-8a93-401f-a65f-87cd57ebb2d6');\n",
              "          const dataTable =\n",
              "            await google.colab.kernel.invokeFunction('convertToInteractive',\n",
              "                                                     [key], {});\n",
              "          if (!dataTable) return;\n",
              "\n",
              "          const docLinkHtml = 'Like what you see? Visit the ' +\n",
              "            '<a target=\"_blank\" href=https://colab.research.google.com/notebooks/data_table.ipynb>data table notebook</a>'\n",
              "            + ' to learn more about interactive tables.';\n",
              "          element.innerHTML = '';\n",
              "          dataTable['output_type'] = 'display_data';\n",
              "          await google.colab.output.renderOutput(dataTable, element);\n",
              "          const docLink = document.createElement('div');\n",
              "          docLink.innerHTML = docLinkHtml;\n",
              "          element.appendChild(docLink);\n",
              "        }\n",
              "      </script>\n",
              "    </div>\n",
              "  </div>\n",
              "  "
            ],
            "text/plain": [
              "        start  ...                                            content\n",
              "0  2022-01-06  ...  안녕하세요 인천에서 살고 있는 30대 직장인입니다\\r\\n지금 이순간에도 백신접종 후...\n",
              "1  2022-01-06  ...  미접종 대학원생입니다. 백신패스 제도 시행으로 인해 공공도서관뿐 아니라 사립대학의 ...\n",
              "2  2022-01-06  ...  안녕하세요? 농협중앙회 상호금융소비자보호부 ******팀장 *** 입니다.\\r\\n저...\n",
              "3  2022-01-06  ...  저는 만63세로 부산에서 작은 서점을 하고 있습니다   1, 2차 백신접종은 진통제...\n",
              "4  2022-01-06  ...  좁은 부지와 세대수가 많은 공동주택의 경우 아파트가 30~40년 이상 되어도 주위 ...\n",
              "\n",
              "[5 rows x 6 columns]"
            ]
          },
          "metadata": {},
          "execution_count": 3
        }
      ]
    },
    {
      "cell_type": "code",
      "source": [
        "df.loc[1]['content']"
      ],
      "metadata": {
        "colab": {
          "base_uri": "https://localhost:8080/",
          "height": 126
        },
        "id": "kmLKfSpO-NXW",
        "outputId": "83ea0aff-4f9e-4e7a-af96-e4c8dcfec4d0"
      },
      "execution_count": null,
      "outputs": [
        {
          "output_type": "execute_result",
          "data": {
            "application/vnd.google.colaboratory.intrinsic+json": {
              "type": "string"
            },
            "text/plain": [
              "'미접종 대학원생입니다. 백신패스 제도 시행으로 인해 공공도서관뿐 아니라 사립대학의 도서관까지 출입이 제한되었습니다. 누구보다 정부가 권고한 방역 및 위생수칙을 잘 지키며 긴 시간을 참아왔는데 돌아온 것은 당장 학업에 필요한 교재와 논문들에까지 접근이 제한된 상황뿐입니다. 열람실 이용도 아닌 출입과 대출마저 막힌 상황은 학업 권리를 심각하게 침해하고 있습니다. 식당에서 밥도 먹을 수 있고 종교시설에서 예배도 드릴 수 있는데, 마스크 쓰고 들어가서 책만 빌려 나오는 도서관에 제가 들어가지 못할 합리적 근거는 어떤 곳에서도 찾을 수 없습니다. 공공도서관 및 대학 도서관에 대한 방역패스 조치를 중단하십시오. 기타 문화생활에 대한 제약은 불편의 범위로 여기며 참아왔지만, 학업에 대한 권리가 부당하게 침해받는 상황은 직업과 생활의 문제로 연결되고 있습니다. 독서실과 학원에 대해서도 시행이 중단된 상황에서 학교 도서관을 출입할 수 없다는 것은 정말 어불성설이며 정책의 일관성과 형평성도 상실한 조치입니다. 건강을 보호한다는 이익보다 기본권의 침해가 심각한 상황입니다. 부디 신속한 조치를 취해 주시길 부탁드립니다. 민주주의 헌법 위에 국민의 손으로 세워진 정부를 자랑스럽게 여기는 국민이고 싶습니다.'"
            ]
          },
          "metadata": {},
          "execution_count": 4
        }
      ]
    },
    {
      "cell_type": "code",
      "source": [
        "# 전처리\n",
        "import re\n",
        "def remove_white_space(text):\n",
        "    text = re.sub(r'[\\t\\r\\n\\f\\v]', ' ', str(text))\n",
        "    return text\n",
        "\n",
        "def remove_special_char(text):\n",
        "    text = re.sub('^ ㄱ-ㅣ가-힣 0-9+', ' ', str(text))\n",
        "    return text\n",
        "\n",
        "df.title = df.title.apply(remove_white_space)\n",
        "df.title = df.title.apply(remove_special_char)\n",
        "\n",
        "df.content = df.content.apply(remove_white_space)\n",
        "df.content = df.content.apply(remove_special_char)"
      ],
      "metadata": {
        "id": "9pMmuvpS-Xx9"
      },
      "execution_count": null,
      "outputs": []
    },
    {
      "cell_type": "code",
      "source": [
        "df.loc[1]['content']"
      ],
      "metadata": {
        "colab": {
          "base_uri": "https://localhost:8080/",
          "height": 126
        },
        "id": "MF1pvdaA_Tcm",
        "outputId": "a824e542-4058-4a50-b42c-01c8002009f6"
      },
      "execution_count": null,
      "outputs": [
        {
          "output_type": "execute_result",
          "data": {
            "application/vnd.google.colaboratory.intrinsic+json": {
              "type": "string"
            },
            "text/plain": [
              "'미접종 대학원생입니다. 백신패스 제도 시행으로 인해 공공도서관뿐 아니라 사립대학의 도서관까지 출입이 제한되었습니다. 누구보다 정부가 권고한 방역 및 위생수칙을 잘 지키며 긴 시간을 참아왔는데 돌아온 것은 당장 학업에 필요한 교재와 논문들에까지 접근이 제한된 상황뿐입니다. 열람실 이용도 아닌 출입과 대출마저 막힌 상황은 학업 권리를 심각하게 침해하고 있습니다. 식당에서 밥도 먹을 수 있고 종교시설에서 예배도 드릴 수 있는데, 마스크 쓰고 들어가서 책만 빌려 나오는 도서관에 제가 들어가지 못할 합리적 근거는 어떤 곳에서도 찾을 수 없습니다. 공공도서관 및 대학 도서관에 대한 방역패스 조치를 중단하십시오. 기타 문화생활에 대한 제약은 불편의 범위로 여기며 참아왔지만, 학업에 대한 권리가 부당하게 침해받는 상황은 직업과 생활의 문제로 연결되고 있습니다. 독서실과 학원에 대해서도 시행이 중단된 상황에서 학교 도서관을 출입할 수 없다는 것은 정말 어불성설이며 정책의 일관성과 형평성도 상실한 조치입니다. 건강을 보호한다는 이익보다 기본권의 침해가 심각한 상황입니다. 부디 신속한 조치를 취해 주시길 부탁드립니다. 민주주의 헌법 위에 국민의 손으로 세워진 정부를 자랑스럽게 여기는 국민이고 싶습니다.'"
            ]
          },
          "metadata": {},
          "execution_count": 6
        }
      ]
    },
    {
      "cell_type": "code",
      "source": [
        "pip install konlpy"
      ],
      "metadata": {
        "colab": {
          "base_uri": "https://localhost:8080/"
        },
        "id": "cfrJ5sxUG3hO",
        "outputId": "bf9d1990-6aed-4a2e-fca6-b271620c7add"
      },
      "execution_count": null,
      "outputs": [
        {
          "output_type": "stream",
          "name": "stdout",
          "text": [
            "Collecting konlpy\n",
            "  Downloading konlpy-0.6.0-py2.py3-none-any.whl (19.4 MB)\n",
            "\u001b[K     |████████████████████████████████| 19.4 MB 6.3 MB/s \n",
            "\u001b[?25hRequirement already satisfied: numpy>=1.6 in /usr/local/lib/python3.7/dist-packages (from konlpy) (1.19.5)\n",
            "Collecting JPype1>=0.7.0\n",
            "  Downloading JPype1-1.3.0-cp37-cp37m-manylinux_2_5_x86_64.manylinux1_x86_64.whl (448 kB)\n",
            "\u001b[K     |████████████████████████████████| 448 kB 61.1 MB/s \n",
            "\u001b[?25hRequirement already satisfied: lxml>=4.1.0 in /usr/local/lib/python3.7/dist-packages (from konlpy) (4.2.6)\n",
            "Requirement already satisfied: typing-extensions in /usr/local/lib/python3.7/dist-packages (from JPype1>=0.7.0->konlpy) (3.10.0.2)\n",
            "Installing collected packages: JPype1, konlpy\n",
            "Successfully installed JPype1-1.3.0 konlpy-0.6.0\n"
          ]
        }
      ]
    },
    {
      "cell_type": "code",
      "source": [
        "#토크나이징 \n",
        "from konlpy.tag import Okt\n",
        "\n",
        "okt = Okt()\n",
        "\n",
        "df['title_token'] = df.title.apply(okt.morphs)\n",
        "df['content_token'] = df.content.apply(okt.nouns)"
      ],
      "metadata": {
        "id": "OFuE26MZB11w"
      },
      "execution_count": null,
      "outputs": []
    },
    {
      "cell_type": "code",
      "source": [
        "#파생변수 생성\n",
        "df['token_final'] = df.title_token + df.content_token\n",
        "df['count']=df['count'].replace({',' : ''}, regex=True).apply(lambda x : int(x))\n",
        "\n",
        "print(df.dtypes)\n",
        "\n",
        "df['label'] = df['count'].apply(lambda x: 'Yes' if x>=1000 else 'No')"
      ],
      "metadata": {
        "colab": {
          "base_uri": "https://localhost:8080/"
        },
        "id": "x-kQa41bB1ts",
        "outputId": "0914a80b-f725-41e5-f7a5-ac460ae9e526"
      },
      "execution_count": null,
      "outputs": [
        {
          "output_type": "stream",
          "name": "stdout",
          "text": [
            "start            object\n",
            "end              object\n",
            "category         object\n",
            "count             int64\n",
            "title            object\n",
            "content          object\n",
            "title_token      object\n",
            "content_token    object\n",
            "token_final      object\n",
            "dtype: object\n"
          ]
        }
      ]
    },
    {
      "cell_type": "code",
      "source": [
        "df_drop = df[['token_final','label']]\n",
        "\n",
        "print(df_drop)\n",
        "df_drop.head()"
      ],
      "metadata": {
        "colab": {
          "base_uri": "https://localhost:8080/",
          "height": 1000
        },
        "id": "4xIN-rRdIKU6",
        "outputId": "c4551609-a72b-4a5d-e429-7027b86a377a"
      },
      "execution_count": null,
      "outputs": [
        {
          "output_type": "stream",
          "name": "stdout",
          "text": [
            "                                          token_final label\n",
            "0   [코로나, 백신, 접종, 후, 부작용, 을, 겪고, 있는, 사람, 들, 에게, 관심...    No\n",
            "1   [도서관, 에, 대한, 백신, 패스, 를, 당장, 중단, 하십시오, 미접, 종, 대...   Yes\n",
            "2   [반드시, 근절, 해, 주세요, !, 농협, 중앙회, 상호금융, 소비자보호, 부, ...    No\n",
            "3   [부스터, 샷, 20일, 후, 급성, 혈액암, 저, 만, 세로, 부산, 서점, 차,...   Yes\n",
            "4   [가로, 주택, 정비, 사업, (, 빈집, 및, 소규모, 주택, 정비, 사업, 에,...    No\n",
            "5   [백신, 패스, 도입, 에, 관련, 된, 모든, 공무원, 들, 을, 즉각, 파면, ...   Yes\n",
            "6   [울산, 울주군, 청량읍, 초등학교, 및, 고등학교, 신설, 촉구, 합니다, ., ...    No\n",
            "7   [요, 양, 병원, 에, 계신, 엄마, 를, 만나게, 해주세요, 저, 어머니, 뇌졸...    No\n",
            "8   [의문, 투성이, 의, **, 경찰서, 불, 송치, 결정, 사건번호, 형제, 사기,...    No\n",
            "9   [학원, 강사, 지만, 학원, 문, 좀, 닫았으면, 좋겠어요, 강남, 학원, 강사,...    No\n",
            "10  [허리협착증, 으로, 인한, 시술, ,, 수술, 로, 더, 악화시킨, 병원, 을, ...    No\n",
            "11  [미접, 종자, 를, 사회, 와, 단절, 시키는, 백신, 패스, 확대, 반대, 와,...   Yes\n",
            "12  [백신, 맞는, 여성, 이, 라면, 꼭, 읽어주세요, 혹시, 백신, 부정, 출혈, ...   Yes\n",
            "13  [임산부, 및, 영유, 아, 자녀, 를, 둔, 엄마, 의, 백, 신, 패스, 를, ...   Yes\n",
            "14  [****, 반려, 회사, 폰, 지, 사기피해, 4만, 명, 회사, 알, 계기, 사...    No\n",
            "15  [억울한, 피해자, 를, 검사, 님, ,, 판사, 님, 도와주세요, 주, 회장, 전...    No\n",
            "16  [성추행, 당, 한, 아이, 를, ,, 아무, 도, 지켜주지, 않습니다, 어디, 도...   Yes\n",
            "17  [고등학생, 들, 에게, 등교, 를, 빌, 미로, ., 수능, 을, 빌, 미로, 백...   Yes\n",
            "18  [제, 동생, 이, 12월, 17일, 화이자, 1, 차, 접종, 후, 2일, 만에,...   Yes\n",
            "19  [산재, 처리, 가, 제대로, 될수있게, 도와주세요, ...., 저, 안산시, 살,...    No\n",
            "20  [우리, 아이, 들, 아토피, 질환, 로션, 실비, 청구, 도와주세요, 아토피, 피...   Yes\n",
            "21  [****, 추락사고, 로, 돌아가신, 택시, 기사, 우리, 아빠, !!, 우선, ...   Yes\n",
            "22  [**, 병원, 코로나, 사망자, 유가족, 입니다, ., **, 병원, 과, 안동시...   Yes\n",
            "23  [해도, 해도, 너무한, 노인장, 기, 요양, 보험, 의, 실태, 세, 이상, 어르...    No\n",
            "24  [방역, 패스, 정책, 은, 유지, 되어야, 합니다, 방역, 패스, 정책, 유지, ...   Yes\n",
            "25  [\", 민주, 노총, 택배, 노조, \", 전, 국민, 에게, 피해, 를, 주는, \"...   Yes\n",
            "26  [건강히, 회사, 생활, 잘, 하시다가, 화이자, 1, 차, 접종, 후, 생사, 를...   Yes\n",
            "27  [3, 차, 부스터, 샷, 으로, 가족, 을, 잃었습니다, ., 저, 형수, 차, ...   Yes\n",
            "28  [플로리스트, !, 목소리, 를, 모아주세요, !, 플로리스트, 꽃, 나무, 열매,...   Yes\n",
            "29  [제, 딸, 에, 인생, 을, 돌려주세요, 제목, 제발, 저희, 딸, 인생, 저, ...    No\n",
            "30  [채용, 을, 강요, 하기, 위해, 온갖, 불법, 을, 저지르는, 노동조합, 을, ...    No\n",
            "31  [수술, 방, 에서, 수술, 중, 의, 아들, 을, 상대로, 상식, 이하, 의, 짓...   Yes\n",
            "32  [학원, 등, 교육, 시설, 에, 대한, 오락가락, 방역, 행정, 을, 재, 검토,...    No\n",
            "33  [화훼, 업계, 도, 소매, 분리, ,, 화훼, 업계, 유통, 시스템, 개선, 을,...   Yes\n",
            "34  [대통령, 님, 인터넷, 주소창, 에서, 청와대, 와, 모든, 기업, 의, ‘, 주...    No\n",
            "35  [줄줄, 새는, 세금, 증세, 는, 계속, 된다, 저, 선박, 어업, 활동, 종사,...    No\n",
            "36  [백신, 1, 차, 접종, 후, 실신, 한, 중학생, 딸, 이, 지침, 상의, 이유...   Yes\n",
            "37  [코로나, 로, 인해, 중학교, 2, 학기, 기말고사, 를, 못, 본, 경우, 불이...    No\n",
            "38  [백신, 접종, 후, 어머니, 가, 별세, 하였습니다, ., 백신, 접종, /, 백...   Yes\n",
            "39  [한국, 토지, 주택, 공사, 신혼, 희망, 타운, A, -*,, 입주, 3, 개월...    No\n",
            "40  [소상, 공인, 지, 원금, 법인, 택시, 기사, 들, 에게도, 지원, 해주세요, ...   Yes\n",
            "41  [학교, 가, 위험합니다, ., 학생, 들, 이, 위험합니다, ., 학, 부모님, ...   Yes\n",
            "42  [질병, 관리, 청, 폐지, 를, 요구, 합니다, !, 질병, 관리, 청, 민주주의...   Yes\n",
            "43  [아버지, 가, 백신, 을, 맞으시고, 백혈병, 으로, 돌아가셨습니다, ., 안녕하...   Yes\n",
            "44  [민법, 을, 개정, 하여, 상속, 포기, 또는, 한정승인, 제도, 개선, 건의, ...    No\n",
            "45  [촉법소년, 폐지, 해주세요, 우리나라, 법, 촉법소년, 과연, 필요, 애, 성장,...    No\n",
            "46  [완치, 자, 의, 예외, 기간, 6, 개월, 은, 비상, 식, 적, 입니다, .,...    No\n",
            "47  [****, \"***, **\", 제, 작, 진, 분들, 너무, 감사, 드립니다, ....    No\n",
            "48  [군인, /, 공무원, 연금, 수령, 자, 들, 은, 죄인, 보다, 못, 한, 국민...    No\n",
            "49  [김한정, 의원, 대표, 발의, 법률, 안, \", 보험, 민원, 보험, 협회, 로,...    No\n",
            "50  [코로나, 19, 화이자, 백신, 2, 차, 접종, 후, 심낭, ,, 심근, 염, ...    No\n",
            "51  [과속방지턱, 을, 없앱시다, 과속방지턱, 것, 일방, 주장, 되풀이, 것, 점점,...    No\n",
            "52  [***, 부장, 판사, 의, 법원장, 후보, 자격, 박탈, 을, 청원, 합니다, ...    No\n",
            "53  [손실보상, 정부, 점짐, 상회, 말, 집, 인수, 로, 계약, 개월, 일, 사업자...    No\n",
            "54  [백신, 패스, 예외, 자, 기준, 을, 개선, 해, 주세요, ., 전, 형, 간염...    No\n",
            "55  [이모, 가, 화이자, 백신, 맞고, 5일, 만에, 돌아가셨습니다, ., 화이자, ...    No\n",
            "56  [만삭, 임산부, 1, 차, 접종, 후, 전신, 발진, 후, 보건소, 방문, 했더니...    No\n",
            "57  [국민, 모두, 에게, 생명, 권, 과, 선택, 권, 을, 강제, 하지, 않는, 효...    No\n",
            "58  [화이자, 2, 차, 맞으시고, 돌아가신, 우리, 할머니, 의, 온기, 를, 아직도...    No\n"
          ]
        },
        {
          "output_type": "execute_result",
          "data": {
            "text/html": [
              "\n",
              "  <div id=\"df-083565d4-b951-4dd8-9288-1376b043a7a7\">\n",
              "    <div class=\"colab-df-container\">\n",
              "      <div>\n",
              "<style scoped>\n",
              "    .dataframe tbody tr th:only-of-type {\n",
              "        vertical-align: middle;\n",
              "    }\n",
              "\n",
              "    .dataframe tbody tr th {\n",
              "        vertical-align: top;\n",
              "    }\n",
              "\n",
              "    .dataframe thead th {\n",
              "        text-align: right;\n",
              "    }\n",
              "</style>\n",
              "<table border=\"1\" class=\"dataframe\">\n",
              "  <thead>\n",
              "    <tr style=\"text-align: right;\">\n",
              "      <th></th>\n",
              "      <th>token_final</th>\n",
              "      <th>label</th>\n",
              "    </tr>\n",
              "  </thead>\n",
              "  <tbody>\n",
              "    <tr>\n",
              "      <th>0</th>\n",
              "      <td>[코로나, 백신, 접종, 후, 부작용, 을, 겪고, 있는, 사람, 들, 에게, 관심...</td>\n",
              "      <td>No</td>\n",
              "    </tr>\n",
              "    <tr>\n",
              "      <th>1</th>\n",
              "      <td>[도서관, 에, 대한, 백신, 패스, 를, 당장, 중단, 하십시오, 미접, 종, 대...</td>\n",
              "      <td>Yes</td>\n",
              "    </tr>\n",
              "    <tr>\n",
              "      <th>2</th>\n",
              "      <td>[반드시, 근절, 해, 주세요, !, 농협, 중앙회, 상호금융, 소비자보호, 부, ...</td>\n",
              "      <td>No</td>\n",
              "    </tr>\n",
              "    <tr>\n",
              "      <th>3</th>\n",
              "      <td>[부스터, 샷, 20일, 후, 급성, 혈액암, 저, 만, 세로, 부산, 서점, 차,...</td>\n",
              "      <td>Yes</td>\n",
              "    </tr>\n",
              "    <tr>\n",
              "      <th>4</th>\n",
              "      <td>[가로, 주택, 정비, 사업, (, 빈집, 및, 소규모, 주택, 정비, 사업, 에,...</td>\n",
              "      <td>No</td>\n",
              "    </tr>\n",
              "  </tbody>\n",
              "</table>\n",
              "</div>\n",
              "      <button class=\"colab-df-convert\" onclick=\"convertToInteractive('df-083565d4-b951-4dd8-9288-1376b043a7a7')\"\n",
              "              title=\"Convert this dataframe to an interactive table.\"\n",
              "              style=\"display:none;\">\n",
              "        \n",
              "  <svg xmlns=\"http://www.w3.org/2000/svg\" height=\"24px\"viewBox=\"0 0 24 24\"\n",
              "       width=\"24px\">\n",
              "    <path d=\"M0 0h24v24H0V0z\" fill=\"none\"/>\n",
              "    <path d=\"M18.56 5.44l.94 2.06.94-2.06 2.06-.94-2.06-.94-.94-2.06-.94 2.06-2.06.94zm-11 1L8.5 8.5l.94-2.06 2.06-.94-2.06-.94L8.5 2.5l-.94 2.06-2.06.94zm10 10l.94 2.06.94-2.06 2.06-.94-2.06-.94-.94-2.06-.94 2.06-2.06.94z\"/><path d=\"M17.41 7.96l-1.37-1.37c-.4-.4-.92-.59-1.43-.59-.52 0-1.04.2-1.43.59L10.3 9.45l-7.72 7.72c-.78.78-.78 2.05 0 2.83L4 21.41c.39.39.9.59 1.41.59.51 0 1.02-.2 1.41-.59l7.78-7.78 2.81-2.81c.8-.78.8-2.07 0-2.86zM5.41 20L4 18.59l7.72-7.72 1.47 1.35L5.41 20z\"/>\n",
              "  </svg>\n",
              "      </button>\n",
              "      \n",
              "  <style>\n",
              "    .colab-df-container {\n",
              "      display:flex;\n",
              "      flex-wrap:wrap;\n",
              "      gap: 12px;\n",
              "    }\n",
              "\n",
              "    .colab-df-convert {\n",
              "      background-color: #E8F0FE;\n",
              "      border: none;\n",
              "      border-radius: 50%;\n",
              "      cursor: pointer;\n",
              "      display: none;\n",
              "      fill: #1967D2;\n",
              "      height: 32px;\n",
              "      padding: 0 0 0 0;\n",
              "      width: 32px;\n",
              "    }\n",
              "\n",
              "    .colab-df-convert:hover {\n",
              "      background-color: #E2EBFA;\n",
              "      box-shadow: 0px 1px 2px rgba(60, 64, 67, 0.3), 0px 1px 3px 1px rgba(60, 64, 67, 0.15);\n",
              "      fill: #174EA6;\n",
              "    }\n",
              "\n",
              "    [theme=dark] .colab-df-convert {\n",
              "      background-color: #3B4455;\n",
              "      fill: #D2E3FC;\n",
              "    }\n",
              "\n",
              "    [theme=dark] .colab-df-convert:hover {\n",
              "      background-color: #434B5C;\n",
              "      box-shadow: 0px 1px 3px 1px rgba(0, 0, 0, 0.15);\n",
              "      filter: drop-shadow(0px 1px 2px rgba(0, 0, 0, 0.3));\n",
              "      fill: #FFFFFF;\n",
              "    }\n",
              "  </style>\n",
              "\n",
              "      <script>\n",
              "        const buttonEl =\n",
              "          document.querySelector('#df-083565d4-b951-4dd8-9288-1376b043a7a7 button.colab-df-convert');\n",
              "        buttonEl.style.display =\n",
              "          google.colab.kernel.accessAllowed ? 'block' : 'none';\n",
              "\n",
              "        async function convertToInteractive(key) {\n",
              "          const element = document.querySelector('#df-083565d4-b951-4dd8-9288-1376b043a7a7');\n",
              "          const dataTable =\n",
              "            await google.colab.kernel.invokeFunction('convertToInteractive',\n",
              "                                                     [key], {});\n",
              "          if (!dataTable) return;\n",
              "\n",
              "          const docLinkHtml = 'Like what you see? Visit the ' +\n",
              "            '<a target=\"_blank\" href=https://colab.research.google.com/notebooks/data_table.ipynb>data table notebook</a>'\n",
              "            + ' to learn more about interactive tables.';\n",
              "          element.innerHTML = '';\n",
              "          dataTable['output_type'] = 'display_data';\n",
              "          await google.colab.output.renderOutput(dataTable, element);\n",
              "          const docLink = document.createElement('div');\n",
              "          docLink.innerHTML = docLinkHtml;\n",
              "          element.appendChild(docLink);\n",
              "        }\n",
              "      </script>\n",
              "    </div>\n",
              "  </div>\n",
              "  "
            ],
            "text/plain": [
              "                                         token_final label\n",
              "0  [코로나, 백신, 접종, 후, 부작용, 을, 겪고, 있는, 사람, 들, 에게, 관심...    No\n",
              "1  [도서관, 에, 대한, 백신, 패스, 를, 당장, 중단, 하십시오, 미접, 종, 대...   Yes\n",
              "2  [반드시, 근절, 해, 주세요, !, 농협, 중앙회, 상호금융, 소비자보호, 부, ...    No\n",
              "3  [부스터, 샷, 20일, 후, 급성, 혈액암, 저, 만, 세로, 부산, 서점, 차,...   Yes\n",
              "4  [가로, 주택, 정비, 사업, (, 빈집, 및, 소규모, 주택, 정비, 사업, 에,...    No"
            ]
          },
          "metadata": {},
          "execution_count": 10
        }
      ]
    },
    {
      "cell_type": "code",
      "source": [
        "#단어 임베딩\n",
        "from gensim.models import Word2Vec\n",
        "embedding_model = Word2Vec(df_drop['token_final'], sg = 1, size = 100, window = 2, min_count = 1, workers = 4)\n",
        "# sg 0은 cbow, 1은 skip gram임. workers 는 병렬 처리 프로세서 수 보통 4~6 지정\n",
        "\n",
        "print(embedding_model)"
      ],
      "metadata": {
        "colab": {
          "base_uri": "https://localhost:8080/"
        },
        "id": "LW3qAIJXO7q1",
        "outputId": "37e2f67f-605e-4a3c-bcbd-18c47a269a50"
      },
      "execution_count": null,
      "outputs": [
        {
          "output_type": "stream",
          "name": "stdout",
          "text": [
            "Word2Vec(vocab=3593, size=100, alpha=0.025)\n"
          ]
        }
      ]
    },
    {
      "cell_type": "code",
      "source": [
        "# 임의의 단어 넣어서 확인\n",
        "model_result = embedding_model.wv.most_similar(\"코로나\")\n",
        "print(model_result)"
      ],
      "metadata": {
        "colab": {
          "base_uri": "https://localhost:8080/"
        },
        "id": "_9ZTY1ggQ0z3",
        "outputId": "df841187-f1a3-47a8-be5b-34c0178f228a"
      },
      "execution_count": null,
      "outputs": [
        {
          "output_type": "stream",
          "name": "stdout",
          "text": [
            "[('병원', 0.9977469444274902), ('것', 0.9975653886795044), ('그', 0.997255802154541), ('할머니', 0.9972310066223145), ('수', 0.9972198605537415), ('이', 0.9970903396606445), ('검사', 0.9969830513000488), ('택배', 0.9969385862350464), ('위해', 0.9969356060028076), ('저', 0.9969030618667603)]\n"
          ]
        }
      ]
    },
    {
      "cell_type": "code",
      "source": [
        "#임베딩 모델 저장 및 로드\n",
        "from gensim.models import KeyedVectors\n",
        "\n",
        "embedding_model.wv.save_word2vec_format('/content/petitions_tokens_w2v')\n",
        "loaded_model = KeyedVectors.load_word2vec_format(\"/content/petitions_tokens_w2v\")\n",
        "\n",
        "model_result = loaded_model.most_similar(\"코로나\")\n",
        "print(model_result)"
      ],
      "metadata": {
        "colab": {
          "base_uri": "https://localhost:8080/"
        },
        "id": "SgOqtIy5RHO3",
        "outputId": "8a82b6aa-52b8-46bc-96c5-fbd6c91989ac"
      },
      "execution_count": null,
      "outputs": [
        {
          "output_type": "stream",
          "name": "stdout",
          "text": [
            "[('병원', 0.9977469444274902), ('것', 0.9975653886795044), ('그', 0.997255802154541), ('할머니', 0.9972310066223145), ('수', 0.9972198605537415), ('이', 0.9970903396606445), ('검사', 0.9969830513000488), ('택배', 0.9969385862350464), ('위해', 0.9969356060028076), ('저', 0.9969030618667603)]\n"
          ]
        }
      ]
    },
    {
      "cell_type": "code",
      "source": [
        "#데이터셋 분할 및 저장\n",
        "from numpy.random import RandomState\n",
        "rng = RandomState()\n",
        "\n",
        "tr = df_drop.sample(frac=0.8, random_state=rng)\n",
        "val = df_drop.loc[~df_drop.index.isin(tr.index)]\n",
        "\n",
        "tr.to_csv('/content/train.csv', index=False, encoding = 'utf-8-sig')\n",
        "val.to_csv('/content/validation.csv', index=False, encoding='utf-8-sig')"
      ],
      "metadata": {
        "id": "cXWgXiTNRbPL"
      },
      "execution_count": null,
      "outputs": []
    },
    {
      "cell_type": "code",
      "source": [
        "pip install torchtext"
      ],
      "metadata": {
        "colab": {
          "base_uri": "https://localhost:8080/"
        },
        "id": "i-1eUEIYTjFC",
        "outputId": "419710d0-ba96-4975-dd7f-3697eb388383"
      },
      "execution_count": null,
      "outputs": [
        {
          "output_type": "stream",
          "name": "stdout",
          "text": [
            "Requirement already satisfied: torchtext in /usr/local/lib/python3.7/dist-packages (0.11.0)\n",
            "Requirement already satisfied: numpy in /usr/local/lib/python3.7/dist-packages (from torchtext) (1.19.5)\n",
            "Requirement already satisfied: requests in /usr/local/lib/python3.7/dist-packages (from torchtext) (2.23.0)\n",
            "Requirement already satisfied: torch==1.10.0 in /usr/local/lib/python3.7/dist-packages (from torchtext) (1.10.0+cu111)\n",
            "Requirement already satisfied: tqdm in /usr/local/lib/python3.7/dist-packages (from torchtext) (4.62.3)\n",
            "Requirement already satisfied: typing-extensions in /usr/local/lib/python3.7/dist-packages (from torch==1.10.0->torchtext) (3.10.0.2)\n",
            "Requirement already satisfied: idna<3,>=2.5 in /usr/local/lib/python3.7/dist-packages (from requests->torchtext) (2.10)\n",
            "Requirement already satisfied: chardet<4,>=3.0.2 in /usr/local/lib/python3.7/dist-packages (from requests->torchtext) (3.0.4)\n",
            "Requirement already satisfied: urllib3!=1.25.0,!=1.25.1,<1.26,>=1.21.1 in /usr/local/lib/python3.7/dist-packages (from requests->torchtext) (1.24.3)\n",
            "Requirement already satisfied: certifi>=2017.4.17 in /usr/local/lib/python3.7/dist-packages (from requests->torchtext) (2021.10.8)\n"
          ]
        }
      ]
    },
    {
      "cell_type": "code",
      "source": [
        "#Field 클래스 정의\n",
        "\n",
        "import torchtext\n",
        "from torchtext.legacy.data import Field\n",
        "\n",
        "def tokenizer(text):\n",
        "    text = re.sub('[\\[\\]\\']','',str(text))\n",
        "    text = text.split(',')\n",
        "    return text\n",
        "\n",
        "TEXT = Field(tokenize=tokenizer)\n",
        "LABEL = Field(sequential = False)"
      ],
      "metadata": {
        "id": "VBURDv1US27M"
      },
      "execution_count": null,
      "outputs": []
    },
    {
      "cell_type": "code",
      "source": [
        "# 데이터 불러오기\n",
        "from torchtext.legacy.data import TabularDataset\n",
        "\n",
        "train, validation = TabularDataset.splits(path = '/content/', train = 'train.csv', validation= 'validation.csv' , format = 'csv', fields = [('text', TEXT), ('label', LABEL)], skip_header=True)\n",
        "\n",
        "print(\"Train:\", train[0].text, train[0].label)\n",
        "print(\"Validation:\", validation[0].text, validation[0].label)"
      ],
      "metadata": {
        "colab": {
          "base_uri": "https://localhost:8080/"
        },
        "id": "3lwJJknyUKwx",
        "outputId": "59cb0e42-7364-49ab-b39b-53d175d9f43b"
      },
      "execution_count": null,
      "outputs": [
        {
          "output_type": "stream",
          "name": "stdout",
          "text": [
            "Train: ['백신', ' 패스', ' 예외', ' 자', ' 기준', ' 을', ' 개선', ' 해', ' 주세요', ' .', ' 전', ' 형', ' 간염', ' 주사', ' 길', ' 바레', ' 증후군', ' 아들', ' 독감', ' 주사', ' 스티븐', ' 존슨', ' 증후군', ' 대학병원', ' 입원', ' 한적', ' 아들', ' 퇴원', ' 때', ' 의사', ' 선생님', ' 혹시', ' 평생', ' 독감', ' 백신', ' 말', ' 그', ' 이후', ' 가족', ' 독감', ' 백신', ' 적', ' 코로나', ' 백신', ' 부작용', ' 길', ' 바레', ' 증후군', ' 스티븐', ' 존슨', ' 증후군', ' 현재', ' 저', ' 애', ' 백신', ' 못', ' 패스', ' 도입', ' 후', ' 저', ' 카페', ' 음식점', ' 거의', ' 집', ' 문제', ' 항생제', ' 부작용', ' 콜린', ' 두드러기', ' 중학생', ' 아들', ' 걱정', ' 예전', ' 입원', ' 대학병원', ' 예외', ' 진단', ' 좀', ' 달라', ' 의사', ' 선생님', ' 부탁', ' 이유', ' 아스', ' 트', ' 카', ' 얀', ' 길', ' 바레', ' 증후군', ' 스티븐', ' 존슨', ' 증후군', ' 부작용', ' 화이자', ' 더나', ' 백신', ' 부작용', ' 후기', ' 길', ' 바레', ' 증후군', ' 스티븐', ' 존슨', ' 증후군', ' 학회', ' 보고', ' 부작용', ' 때', ' 고생', ' 생각', ' 도저히', ' 용기', ' 저', ' 해도', ' 중학교', ' 학년', ' 아들', ' 치사', ' 율도', ' 부작용', ' 또', ' 청소년', ' 패스', ' 도입', ' 백신', ' 정말', ' 이건', ' 생각', ' 듭니', ' 제발', ' 다른', ' 백신', ' 부작용', ' 백신', ' 패스', ' 예외', ' 지정', ' 수', ' 기준', ' 개선'] No\n",
            "Validation: ['울산', ' 울주군', ' 청량읍', ' 초등학교', ' 및', ' 고등학교', ' 신설', ' 촉구', ' 합니다', ' .', ' 안녕하십니까', ' 울산', ' 울주군', ' 청량읍', ' 예비', ' 입', ' 주민', ' 울산', ' 울주군', ' 청량읍', ' 향후', ' 세대', ' 세대', ' 전입', ' 예정', ' 총', ' 세대', ' 청량읍', ' 거주', ' 예정', ' 현재', ' 청량읍', ' 근처', ' 고등학교', ' 하나', ' 실상', ' 청량', ' 초등학교', ' 또한', ' 신설', ' 예정', ' 모듈러', ' 이동식', ' 교실', ' 컨테이너', ' 를', ' 통한', ' 증축', ' 예정', ' 고등학교', ' 통학', ' 위해', ' 울주군', ' 남구', ' 버스', ' 타고', ' 시간', ' 통학', ' 초등학교', ' 또한', ' 천재지변', ' 환기', ' 컨테이너', ' 교육', ' 동네', ' 어디', ' 청량읍', ' 발전', ' 하나', ' 산시', ' 거기', ' 군부', ' 이전', ' 실정', ' 조속', ' 초등학교', ' 신설', ' 및', ' 고등학교', ' 신설', ' 통해', ' 우리', ' 아이', ' 교육', ' 환경', ' 줄', ' 수', ' 긍정', ' 검토'] No\n"
          ]
        }
      ]
    },
    {
      "cell_type": "code",
      "source": [
        "#단어장 및 DataLoader 정의\n",
        "import torch\n",
        "from torchtext.vocab import Vectors\n",
        "from torchtext.legacy.data import BucketIterator\n",
        "\n",
        "vectors = Vectors(name=\"/content/petitions_tokens_w2v\")\n",
        "\n",
        "TEXT.build_vocab(train, vectors = vectors, min_freq = 1, max_size = None)\n",
        "\n",
        "LABEL.build_vocab(train)\n",
        "\n",
        "vocab = TEXT.vocab\n",
        "\n",
        "device = torch.device(\"cuda\" if torch.cuda.is_available() else \"cpu\")\n",
        "\n",
        "train_iter, validation_iter = BucketIterator.splits(datasets = (train, validation), batch_size=8, device = device, sort = False)\n",
        "\n",
        "print('임베딩 벡터의 개수와 차원 : {}'.format(TEXT.vocab.vectors.shape))"
      ],
      "metadata": {
        "colab": {
          "base_uri": "https://localhost:8080/"
        },
        "id": "RiU2wn-cQfIN",
        "outputId": "d01a1067-826c-4ec8-c41e-15a5b21a3983"
      },
      "execution_count": null,
      "outputs": [
        {
          "output_type": "stream",
          "name": "stderr",
          "text": [
            "  0%|          | 0/3593 [00:00<?, ?it/s]Skipping token b'3593' with 1-dimensional vector [b'100']; likely a header\n",
            "100%|██████████| 3593/3593 [00:00<00:00, 17298.93it/s]\n"
          ]
        },
        {
          "output_type": "stream",
          "name": "stdout",
          "text": [
            "임베딩 벡터의 개수와 차원 : torch.Size([3261, 100])\n"
          ]
        }
      ]
    },
    {
      "cell_type": "code",
      "source": [
        "#TextCNN 모델링\n",
        "import torch.nn as nn\n",
        "import torch.optim as optim\n",
        "import torch.nn.functional as F\n",
        "\n",
        "class TextCNN(nn.Module):\n",
        "\n",
        "    def __init__(self, vocab_built, emb_dim, dim_channel, kernel_wins, num_class):\n",
        "\n",
        "        super(TextCNN, self).__init__()\n",
        "\n",
        "        self.embed = nn.Embedding(len(vocab_built), emb_dim)\n",
        "        self.embed.weight.data.copy_(vocab_built.vectors)\n",
        "        self.convs = nn.ModuleList([nn.Conv2d(1, dim_channel, (w, emb_dim)) for w in kernel_wins])\n",
        "        self.relu = nn.ReLU()\n",
        "        self.dropout = nn.Dropout(0.4)\n",
        "        self.fc = nn.Linear(len(kernel_wins)*dim_channel, num_class)\n",
        "\n",
        "    def forward(self,x):\n",
        "\n",
        "        emb_x = self.embed(x)\n",
        "        emb_x = emb_x.unsqueeze(1)\n",
        "\n",
        "        con_x = [self.relu(conv(emb_x)) for conv in self.convs]\n",
        "\n",
        "        pool_x = [F.max_pool1d(x.squeeze(-1), x.size()[2]) for x in con_x]\n",
        "\n",
        "        fc_x = torch.cat(pool_x, dim=1)\n",
        "        fc_x = fc_x.squeeze(-1)\n",
        "        fc_x = self.dropout(fc_x)\n",
        "\n",
        "        logit = self.fc(fc_x)\n",
        "\n",
        "        return logit"
      ],
      "metadata": {
        "id": "GpHoaoYcR_SP"
      },
      "execution_count": null,
      "outputs": []
    },
    {
      "cell_type": "code",
      "source": [
        "#모델 학습 함수 정의\n",
        "\n",
        "def train(model, device, train_itr, optimizer):\n",
        "\n",
        "    model.train()\n",
        "    corrects, train_loss = 0.0,0\n",
        "\n",
        "    for batch in train_itr:\n",
        "\n",
        "        text, target = batch.text, batch.label\n",
        "        text = torch.transpose(text,0,1)\n",
        "        target.data.sub_(1)\n",
        "        text, target = text.to(device), target.to(device)\n",
        "\n",
        "        optimizer.zero_grad()\n",
        "        logit = model(text)\n",
        "\n",
        "        loss = F.cross_entropy(logit, target)\n",
        "        loss.backward()\n",
        "        optimizer.step()\n",
        "\n",
        "        train_loss += loss.item()\n",
        "        result = torch.max(logit,1)[1]\n",
        "        corrects += (result.view(target.size()).data == target.data).sum()\n",
        "\n",
        "    train_loss /= len(train_itr.dataset)\n",
        "    accuracy = 100.0 * corrects / len(train_itr.dataset)\n",
        "\n",
        "    return train_loss, accuracy"
      ],
      "metadata": {
        "id": "oGtYp5q4U_lP"
      },
      "execution_count": null,
      "outputs": []
    },
    {
      "cell_type": "code",
      "source": [
        "#모델 평가 함수 정의\n",
        "def evaluate(model, device, itr):\n",
        "\n",
        "    model.eval()\n",
        "    corrects, test_loss = 0.0, 0\n",
        "\n",
        "    for batch in itr:\n",
        "\n",
        "        text = batch.text\n",
        "        target = batch.label\n",
        "        text = torch.transpose(text, 0, 1)\n",
        "        target.data.sub_(1)\n",
        "        text, target = text.to(device), target.to(device)\n",
        "\n",
        "        logit = model(text)\n",
        "        loss = F.cross_entropy(logit, target)\n",
        "\n",
        "        test_loss += loss.item()\n",
        "        result = torch.max(logit,1)[1]\n",
        "        corrects += (result.view(target.size()).data == target.data).sum()\n",
        "\n",
        "    test_loss /= len(itr.dataset)\n",
        "    accuracy = 100.0 * corrects/len(itr.dataset)\n",
        "\n",
        "    return test_loss, accuracy"
      ],
      "metadata": {
        "id": "5PafcBoaZEhv"
      },
      "execution_count": null,
      "outputs": []
    },
    {
      "cell_type": "code",
      "source": [
        "#모델 학습 및 성능 확인\n",
        "\n",
        "model = TextCNN(vocab, 100, 10, [3,4,5], 2).to(device)\n",
        "\n",
        "print(model)"
      ],
      "metadata": {
        "colab": {
          "base_uri": "https://localhost:8080/"
        },
        "id": "ntrfzmYkZEaa",
        "outputId": "1c266792-effd-4f22-e855-0a8be25bb6df"
      },
      "execution_count": null,
      "outputs": [
        {
          "output_type": "stream",
          "name": "stdout",
          "text": [
            "TextCNN(\n",
            "  (embed): Embedding(3261, 100)\n",
            "  (convs): ModuleList(\n",
            "    (0): Conv2d(1, 10, kernel_size=(3, 100), stride=(1, 1))\n",
            "    (1): Conv2d(1, 10, kernel_size=(4, 100), stride=(1, 1))\n",
            "    (2): Conv2d(1, 10, kernel_size=(5, 100), stride=(1, 1))\n",
            "  )\n",
            "  (relu): ReLU()\n",
            "  (dropout): Dropout(p=0.4, inplace=False)\n",
            "  (fc): Linear(in_features=30, out_features=2, bias=True)\n",
            ")\n"
          ]
        }
      ]
    },
    {
      "cell_type": "code",
      "source": [
        "device = torch.device(\"cuda\" if torch.cuda.is_available() else \"cpu\")\n",
        "\n",
        "optimizer = optim.Adam(model.parameters(), lr=0.001)\n",
        "\n",
        "best_test_acc = -1\n",
        "\n",
        "for epoch in range(1, 3+1):\n",
        "    tr_loss, tr_acc = train(model, device, train_iter, optimizer)\n",
        "\n",
        "    print('Train Epoch: {} \\t Loss: {} \\t Accuracy: {}%'.format(epoch, tr_loss, tr_acc))\n",
        "\n",
        "    val_loss, val_acc = evaluate(model, device, validation_iter)\n",
        "\n",
        "    print('Valid Epoch: {} \\t Loss: {} \\t Accuracy: {}%'.format(epoch, val_loss, val_acc))\n",
        "\n",
        "    if val_acc > best_test_acc:\n",
        "        best_test_acc = val_acc\n",
        "\n",
        "        print(\"model saves at {} accuracy\".format(best_test_acc))\n",
        "        torch.save(model.state_dict(), \"TextCNN_Best_Validation\")\n",
        "\n",
        "    print('------------------------------------------------')"
      ],
      "metadata": {
        "colab": {
          "base_uri": "https://localhost:8080/"
        },
        "id": "ONlmqLZUv5p9",
        "outputId": "58fddd48-db61-49a6-8fe2-d4e97a0cf1a0"
      },
      "execution_count": null,
      "outputs": [
        {
          "output_type": "stream",
          "name": "stdout",
          "text": [
            "Train Epoch: 1 \t Loss: 0.08923530324976495 \t Accuracy: 44.680850982666016%\n",
            "Valid Epoch: 1 \t Loss: 0.11951988438765208 \t Accuracy: 33.333335876464844%\n",
            "model saves at 33.333335876464844 accuracy\n",
            "------------------------------------------------\n",
            "Train Epoch: 2 \t Loss: 0.08833931481584589 \t Accuracy: 44.680850982666016%\n",
            "Valid Epoch: 2 \t Loss: 0.11771067976951599 \t Accuracy: 33.333335876464844%\n",
            "------------------------------------------------\n",
            "Train Epoch: 3 \t Loss: 0.08803323989218854 \t Accuracy: 57.446807861328125%\n",
            "Valid Epoch: 3 \t Loss: 0.11637566486994426 \t Accuracy: 33.333335876464844%\n",
            "------------------------------------------------\n"
          ]
        }
      ]
    }
  ]
}